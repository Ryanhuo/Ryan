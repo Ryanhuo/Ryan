{
 "cells": [
  {
   "cell_type": "markdown",
   "metadata": {},
   "source": [
    "# 随机森林\n",
    "随机森林算法是一种并行性比较好的算法规则，，和前面的决策树归纳的过程类似，随机森林是一个构造决策树的过程，只是它不是要构造一棵树，而是构造许多棵树。\n",
    "\n",
    "\n",
    "在决策树的构造中会遇到过拟和欠拟的问题，在随机森林算法中，通常在一棵树上是不会追求及其精确的拟合的，而相反，希望的是决策树的简洁和计算的快速。\n",
    "\n",
    "步骤和原则如下。\n",
    "\n",
    "（1）随机挑选一个字段构造树的第一层。\n",
    "\n",
    "（2）随机挑选一个字段构造树的第二层。\n",
    "\n",
    "……\n",
    "\n",
    "（3）随机挑选一个字段构造树的第n层。\n",
    "\n",
    "（4）在本棵树建造完毕后，还需要照这种方式建造m棵决策树。\n",
    "\n",
    "补充原则如下。\n",
    "\n",
    "* 树的层级通常比较浅。\n",
    "\n",
    "* 每棵树的分类都不能保证分类精度很高。\n",
    "\n",
    "* 一个样本进行分类时同时对这m棵决策树做分类概率判断。\n",
    "\n",
    "人们会为一个训练集构造若干棵决策树，通常可能是几十甚至上百棵，具体会根据样本属性的数量和杂乱程度来决定。当有新样本需要进行分类时，同时把这个样本给这几棵树，然后用类似民主投票表决的方式来决定新样本应该归属于哪类，哪一类“得票多”就归为哪一类。\n",
    "\n",
    "# 算法实现"
   ]
  },
  {
   "cell_type": "code",
   "execution_count": 4,
   "metadata": {},
   "outputs": [
    {
     "name": "stdout",
     "output_type": "stream",
     "text": [
      "[0]\n"
     ]
    },
    {
     "name": "stderr",
     "output_type": "stream",
     "text": [
      "/Users/ryan/anaconda3/lib/python3.7/site-packages/sklearn/ensemble/forest.py:245: FutureWarning: The default value of n_estimators will change from 10 in version 0.20 to 100 in 0.22.\n",
      "  \"10 in version 0.20 to 100 in 0.22.\", FutureWarning)\n"
     ]
    }
   ],
   "source": [
    "from sklearn.ensemble import RandomForestClassifier\n",
    "\n",
    "X=[[25,181,12,0],[23,172,12,2],\n",
    "  [21,172,34,2],[23,177,22,1],\n",
    "  [18,181,18,0],[21,182,23,1],\n",
    "  [23,189,21,2],[33,175,30,2]]\n",
    "# 年龄，身高，年薪，学历（0大专，1本科，2硕士）\n",
    "Y=[0,1,1,0,1,0,0,1]\n",
    "# 相亲 0没有，1有\n",
    "clf=RandomForestClassifier()\n",
    "clf.fit(X,Y)\n",
    "test=[[18,186,12,1]]\n",
    "prediction=clf.predict(test)\n",
    "print(prediction)"
   ]
  }
 ],
 "metadata": {
  "kernelspec": {
   "display_name": "Python 3.7.3 64-bit ('base': conda)",
   "language": "python",
   "name": "python37364bitbaseconda49c3178403d1439ca0e62a4e7df9e495"
  },
  "language_info": {
   "codemirror_mode": {
    "name": "ipython",
    "version": 3
   },
   "file_extension": ".py",
   "mimetype": "text/x-python",
   "name": "python",
   "nbconvert_exporter": "python",
   "pygments_lexer": "ipython3",
   "version": "3.7.3"
  },
  "toc": {
   "base_numbering": 1,
   "nav_menu": {},
   "number_sections": true,
   "sideBar": true,
   "skip_h1_title": false,
   "title_cell": "Table of Contents",
   "title_sidebar": "Contents",
   "toc_cell": false,
   "toc_position": {},
   "toc_section_display": true,
   "toc_window_display": false
  }
 },
 "nbformat": 4,
 "nbformat_minor": 4
}
