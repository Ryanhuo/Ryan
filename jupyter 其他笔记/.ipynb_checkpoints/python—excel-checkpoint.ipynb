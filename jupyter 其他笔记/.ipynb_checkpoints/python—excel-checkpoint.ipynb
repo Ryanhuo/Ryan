{
 "cells": [
  {
   "cell_type": "markdown",
   "metadata": {},
   "source": [
    "# excel库的安装及使用\n",
    "```\n",
    "pip install openpyxl\n",
    "```\n",
    "如果是mac，使用\n",
    "```\n",
    "pip3 install openpyxl\n",
    "```"
   ]
  },
  {
   "cell_type": "code",
   "execution_count": 1,
   "metadata": {},
   "outputs": [],
   "source": [
    "from openpyxl import Workbook\n",
    "wb=Workbook()\n",
    "\n",
    "ws=wb.active\n",
    "ws['A1']='test'\n",
    "ws.append([1,3,5,6])\n",
    "\n",
    "import datetime\n",
    "ws['A3']=datetime.datetime.now()\n",
    "\n",
    "wb.save('test.xlsx')"
   ]
  },
  {
   "cell_type": "markdown",
   "metadata": {},
   "source": [
    "![](pic/1.00.jpg)\n",
    "# excel操作\n",
    "## 创建sheet"
   ]
  },
  {
   "cell_type": "code",
   "execution_count": 2,
   "metadata": {},
   "outputs": [
    {
     "name": "stdout",
     "output_type": "stream",
     "text": [
      "['第一个sheet', '重命名']\n",
      "['第一个sheet', '重命名', '重命名 Copy']\n"
     ]
    }
   ],
   "source": [
    "from openpyxl import Workbook\n",
    "wb=Workbook()\n",
    "\n",
    "ws=wb.active# 获取活动工作表\n",
    "\n",
    "ws1=wb.create_sheet('第一个sheet',0)\n",
    "# 在第一个位置插入工作表（默认在后面插入）\n",
    "\n",
    "ws.title='重命名'\n",
    "ws.sheet_properties.tabColor='1072BA'# 修改标题颜色\n",
    "\n",
    "print(wb.sheetnames)#显示sheet名\n",
    "\n",
    "# 创建sheet副本\n",
    "wb.copy_worksheet(ws)\n",
    "print(wb.sheetnames)"
   ]
  },
  {
   "cell_type": "markdown",
   "metadata": {},
   "source": [
    "## 数据操作\n",
    "### 访问单元格"
   ]
  },
  {
   "cell_type": "code",
   "execution_count": 3,
   "metadata": {},
   "outputs": [],
   "source": [
    "ws['A2']='1'"
   ]
  },
  {
   "cell_type": "code",
   "execution_count": 4,
   "metadata": {},
   "outputs": [
    {
     "data": {
      "text/plain": [
       "<Cell '重命名'.B4>"
      ]
     },
     "execution_count": 4,
     "metadata": {},
     "output_type": "execute_result"
    }
   ],
   "source": [
    "# 也可以使用\n",
    "ws.cell(row=4,column=2,value=1)"
   ]
  },
  {
   "cell_type": "markdown",
   "metadata": {},
   "source": [
    "## 存储"
   ]
  },
  {
   "cell_type": "code",
   "execution_count": 5,
   "metadata": {},
   "outputs": [],
   "source": [
    "wb.save('1.xlsx')"
   ]
  },
  {
   "cell_type": "markdown",
   "metadata": {},
   "source": [
    "# 读写数据\n",
    "## 读取excel"
   ]
  },
  {
   "cell_type": "code",
   "execution_count": 6,
   "metadata": {},
   "outputs": [
    {
     "name": "stderr",
     "output_type": "stream",
     "text": [
      "C:\\Users\\topfor\\Anaconda3\\lib\\site-packages\\ipykernel_launcher.py:3: DeprecationWarning: Call to deprecated function get_sheet_names (Use wb.sheetnames).\n",
      "  This is separate from the ipykernel package so we can avoid doing imports until\n"
     ]
    },
    {
     "data": {
      "text/plain": [
       "['第一个sheet', '重命名', '重命名 Copy']"
      ]
     },
     "execution_count": 6,
     "metadata": {},
     "output_type": "execute_result"
    }
   ],
   "source": [
    "import openpyxl\n",
    "wb1=openpyxl.load_workbook('1.xlsx')\n",
    "wb1.get_sheet_names()"
   ]
  },
  {
   "cell_type": "code",
   "execution_count": 7,
   "metadata": {},
   "outputs": [
    {
     "data": {
      "text/plain": [
       "'重命名'"
      ]
     },
     "execution_count": 7,
     "metadata": {},
     "output_type": "execute_result"
    }
   ],
   "source": [
    "sheet=wb1['重命名']\n",
    "sheet.title"
   ]
  },
  {
   "cell_type": "code",
   "execution_count": 8,
   "metadata": {},
   "outputs": [
    {
     "data": {
      "text/plain": [
       "'1'"
      ]
     },
     "execution_count": 8,
     "metadata": {},
     "output_type": "execute_result"
    }
   ],
   "source": [
    "wb1.active #指向当前活动表\n",
    "sheet['A2'].value"
   ]
  },
  {
   "cell_type": "markdown",
   "metadata": {},
   "source": [
    "## 写入数据"
   ]
  },
  {
   "cell_type": "code",
   "execution_count": 9,
   "metadata": {},
   "outputs": [
    {
     "data": {
      "text/plain": [
       "<Worksheet \"写入数据\">"
      ]
     },
     "execution_count": 9,
     "metadata": {},
     "output_type": "execute_result"
    }
   ],
   "source": [
    "wb1.create_sheet(index=0,title='写入数据')#在前面新建sheet"
   ]
  },
  {
   "cell_type": "code",
   "execution_count": 10,
   "metadata": {
    "scrolled": true
   },
   "outputs": [],
   "source": [
    "wb1.remove(wb1['重命名 Copy'])# 删除重命名Copy的sheet\n",
    "#Del wb1['重命名 Copy']"
   ]
  },
  {
   "cell_type": "code",
   "execution_count": 11,
   "metadata": {},
   "outputs": [
    {
     "name": "stdout",
     "output_type": "stream",
     "text": [
      "<Cell '写入数据'.A1>\n"
     ]
    }
   ],
   "source": [
    "sheet1=wb1['写入数据']\n",
    "# 写入\n",
    "sheet1['A1']='你好'\n",
    "# 读取\n",
    "cell1=sheet1.cell(row=1,column=1)\n",
    "print(cell1)"
   ]
  },
  {
   "cell_type": "markdown",
   "metadata": {},
   "source": [
    "## 设置数据字体"
   ]
  },
  {
   "cell_type": "code",
   "execution_count": 12,
   "metadata": {},
   "outputs": [],
   "source": [
    "import openpyxl\n",
    "from openpyxl.styles import Font"
   ]
  },
  {
   "cell_type": "code",
   "execution_count": 13,
   "metadata": {},
   "outputs": [],
   "source": [
    "style=Font(size=16,name='Heiti',bold=True,italic=True)\n",
    "# 加粗，倾斜，黑体，16号字\n",
    "sheet1['A1'].font=style"
   ]
  },
  {
   "cell_type": "markdown",
   "metadata": {},
   "source": [
    "![](pic/2.jpg)"
   ]
  },
  {
   "cell_type": "markdown",
   "metadata": {},
   "source": [
    "## 数据格式"
   ]
  },
  {
   "cell_type": "code",
   "execution_count": 32,
   "metadata": {},
   "outputs": [
    {
     "name": "stdout",
     "output_type": "stream",
     "text": [
      "General\n"
     ]
    }
   ],
   "source": [
    "import datetime\n",
    "ws1['D1']=datetime.datetime(2020,1,1)\n",
    "print(ws1['A1'].number_format)"
   ]
  },
  {
   "cell_type": "code",
   "execution_count": 37,
   "metadata": {},
   "outputs": [
    {
     "name": "stdout",
     "output_type": "stream",
     "text": [
      "General\n"
     ]
    }
   ],
   "source": [
    "#可以根据具体情况启用类型接口 wb.guess_types= True \n",
    "wb.guess_types=True\n",
    "ws1['D2']='3.14%'#设置百分数\n",
    "wb1.guess_types=False\n",
    "print(ws1['D2'].number_format)"
   ]
  },
  {
   "cell_type": "markdown",
   "metadata": {},
   "source": [
    "## 输入公式"
   ]
  },
  {
   "cell_type": "code",
   "execution_count": 14,
   "metadata": {},
   "outputs": [],
   "source": [
    "sheet1['A2']=3\n",
    "sheet1['A3']=56\n",
    "sheet1['A4']=56\n",
    "sheet1['A5']='=sum(A2:A4)'"
   ]
  },
  {
   "cell_type": "code",
   "execution_count": 17,
   "metadata": {},
   "outputs": [],
   "source": [
    "sheet1.row_dimensions[3].height=44 # 设置行高\n",
    "sheet1.column_dimensions['D'].width=44 #设置列宽"
   ]
  },
  {
   "cell_type": "markdown",
   "metadata": {},
   "source": [
    "## 合并单元格"
   ]
  },
  {
   "cell_type": "code",
   "execution_count": 20,
   "metadata": {},
   "outputs": [],
   "source": [
    "sheet1.merge_cells('B2:E2')\n",
    "wb1.save('2.xlsx')"
   ]
  },
  {
   "cell_type": "markdown",
   "metadata": {},
   "source": [
    "![](pic/3.png)"
   ]
  },
  {
   "cell_type": "markdown",
   "metadata": {},
   "source": [
    "# 图表"
   ]
  },
  {
   "cell_type": "markdown",
   "metadata": {},
   "source": [
    "1.\t使用矩形单元格区域，必须创建一个引用对象。\n",
    "2.\t传递这个引用对象，创建一个 Series对象。\n",
    "3.\t创建图表对象。\n",
    "4.\t将创建的 Series对象附加到所创建的图表对象中。\n",
    "5.\t设置图表对象的顶、左、宽、高。\n",
    "6.\t将图表对象添加到 Worksheet对象。"
   ]
  },
  {
   "cell_type": "markdown",
   "metadata": {},
   "source": [
    "> 引用对象说明 \n",
    "> 在使用openpyxl创建引用对象时，必须调用指定的函数：\n",
    "> openpyxl.chart.Reference() \n",
    "> 该函数需要5个参数：\n",
    "> * 包含图表数据的 Worksheet对象\n",
    "> * 后面 4个参数分别指定数据区域左上角和右下角单元格所在位置。"
   ]
  },
  {
   "cell_type": "code",
   "execution_count": 30,
   "metadata": {},
   "outputs": [],
   "source": [
    "import openpyxl\n",
    "chart=openpyxl.Workbook()\n",
    "mysheet=chart.active\n",
    "\n",
    "# 写入数据\n",
    "for i in range(1,10):\n",
    "    mysheet['A' + str(i)]= i\n",
    "\n",
    "    \n",
    "refobj=openpyxl.chart.Reference(mysheet,min_row=1,min_col=1,max_row=10,max_col=1)\n",
    "seriesobj=openpyxl.chart.Series(refobj,title='画图测试')\n",
    "chartobj=openpyxl.chart.BarChart()\n",
    "chartobj.title='图片'\n",
    "chartobj.append(seriesobj)\n",
    "mysheet.add_chart(chartobj)\n",
    "chart.save('chart.xlsx')"
   ]
  },
  {
   "cell_type": "code",
   "execution_count": null,
   "metadata": {},
   "outputs": [],
   "source": []
  }
 ],
 "metadata": {
  "kernelspec": {
   "display_name": "Python 3",
   "language": "python",
   "name": "python3"
  },
  "language_info": {
   "codemirror_mode": {
    "name": "ipython",
    "version": 3
   },
   "file_extension": ".py",
   "mimetype": "text/x-python",
   "name": "python",
   "nbconvert_exporter": "python",
   "pygments_lexer": "ipython3",
   "version": "3.7.4"
  },
  "latex_envs": {
   "LaTeX_envs_menu_present": true,
   "autoclose": false,
   "autocomplete": true,
   "bibliofile": "biblio.bib",
   "cite_by": "apalike",
   "current_citInitial": 1,
   "eqLabelWithNumbers": true,
   "eqNumInitial": 1,
   "hotkeys": {
    "equation": "Ctrl-E",
    "itemize": "Ctrl-I"
   },
   "labels_anchors": false,
   "latex_user_defs": false,
   "report_style_numbering": false,
   "user_envs_cfg": false
  },
  "toc": {
   "base_numbering": 1,
   "nav_menu": {},
   "number_sections": true,
   "sideBar": true,
   "skip_h1_title": false,
   "title_cell": "Table of Contents",
   "title_sidebar": "Contents",
   "toc_cell": false,
   "toc_position": {},
   "toc_section_display": true,
   "toc_window_display": true
  }
 },
 "nbformat": 4,
 "nbformat_minor": 2
}
