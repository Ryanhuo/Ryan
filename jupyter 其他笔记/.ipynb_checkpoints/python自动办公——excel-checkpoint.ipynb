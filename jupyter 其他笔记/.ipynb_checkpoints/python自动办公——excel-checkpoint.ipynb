{
 "cells": [
  {
   "cell_type": "markdown",
   "metadata": {},
   "source": [
    "# excel文件读写\n",
    "* xlrd，读取excel\n",
    "* xlwt，写入excel\n",
    "\n",
    "--------\n",
    "\n",
    "逐行将《七月下旬入库表》内容读取并写入新的excel中\n",
    "> 使用xlswriter库完成"
   ]
  },
  {
   "cell_type": "markdown",
   "metadata": {},
   "source": [
    "## read excel"
   ]
  },
  {
   "cell_type": "code",
   "execution_count": 1,
   "metadata": {},
   "outputs": [],
   "source": [
    "import xlrd"
   ]
  },
  {
   "cell_type": "code",
   "execution_count": 2,
   "metadata": {},
   "outputs": [],
   "source": [
    "data=xlrd.open_workbook('F:/OneDrive/jupyter notebook/excel_data/7月下旬入库表.xlsx') \n",
    "# 文件路径中\\换成/\n",
    "# 注意：打开excel的时候，这行代码不能运行"
   ]
  },
  {
   "cell_type": "code",
   "execution_count": 3,
   "metadata": {},
   "outputs": [
    {
     "data": {
      "text/plain": [
       "['7月下旬入库表']"
      ]
     },
     "execution_count": 3,
     "metadata": {},
     "output_type": "execute_result"
    }
   ],
   "source": [
    "data.sheet_names()"
   ]
  },
  {
   "cell_type": "code",
   "execution_count": 4,
   "metadata": {},
   "outputs": [],
   "source": [
    "table = data.sheet_by_index(0)#检索第一个表格，同时也可以使用sheet_by_names"
   ]
  },
  {
   "cell_type": "code",
   "execution_count": 5,
   "metadata": {},
   "outputs": [
    {
     "name": "stdout",
     "output_type": "stream",
     "text": [
      "打印工作表的名称、行数和列数:\n",
      "7月下旬入库表 1846 5\n"
     ]
    }
   ],
   "source": [
    "print(\"打印工作表的名称、行数和列数:\")\n",
    "print(table.name, table.nrows, table.ncols)"
   ]
  },
  {
   "cell_type": "code",
   "execution_count": 6,
   "metadata": {},
   "outputs": [
    {
     "name": "stdout",
     "output_type": "stream",
     "text": [
      "['日期', '销售商', '来源省份', '单价（元/吨）', '入库量（吨）'] <class 'list'>\n"
     ]
    }
   ],
   "source": [
    "# 获取第一行数据\n",
    "row1=table.row_values(0)\n",
    "print(row1,type(row1))"
   ]
  },
  {
   "cell_type": "code",
   "execution_count": 7,
   "metadata": {},
   "outputs": [
    {
     "name": "stdout",
     "output_type": "stream",
     "text": [
      "['日期', 43302.0, 43302.0, 43302.0, 43302.0, 43302.0, 43302.0, 43302.0, 43302.0, 43302.0]\n"
     ]
    }
   ],
   "source": [
    "#获取第一列前时的数据\n",
    "col10=table.col_values(0)[:10]\n",
    "print(col10)"
   ]
  },
  {
   "cell_type": "code",
   "execution_count": 8,
   "metadata": {},
   "outputs": [
    {
     "name": "stdout",
     "output_type": "stream",
     "text": [
      "陕西\n"
     ]
    }
   ],
   "source": [
    "#获取单元格数据\n",
    "print(table.cell_value(1, 2))"
   ]
  },
  {
   "cell_type": "code",
   "execution_count": 9,
   "metadata": {},
   "outputs": [
    {
     "name": "stdout",
     "output_type": "stream",
     "text": [
      "7月下旬入库表\n"
     ]
    }
   ],
   "source": [
    "# 循环读取数据\n",
    "for i in range(0,data.nsheets):\n",
    "    table=data.sheet_by_index(i)\n",
    "    print(table.name)\n",
    "    \n",
    "for i in range(0,table.nrows):\n",
    "    table.row_values(i)"
   ]
  },
  {
   "cell_type": "markdown",
   "metadata": {},
   "source": [
    "## write excel"
   ]
  },
  {
   "cell_type": "code",
   "execution_count": 10,
   "metadata": {},
   "outputs": [],
   "source": [
    "import xlwt"
   ]
  },
  {
   "cell_type": "code",
   "execution_count": 11,
   "metadata": {},
   "outputs": [],
   "source": [
    "# 创建一个workbook 设置编码\n",
    "workbook = xlwt.Workbook(encoding = 'utf-8')"
   ]
  },
  {
   "cell_type": "code",
   "execution_count": 12,
   "metadata": {},
   "outputs": [],
   "source": [
    "# 创建一个worksheet\n",
    "worksheet = workbook.add_sheet('new_test')"
   ]
  },
  {
   "cell_type": "code",
   "execution_count": 13,
   "metadata": {},
   "outputs": [],
   "source": [
    "for i in range(0,table.nrows):\n",
    "    for j in range(0,table.ncols):\n",
    "        worksheet.write(i,j, label =table.cell_value(i,j))"
   ]
  },
  {
   "cell_type": "code",
   "execution_count": 14,
   "metadata": {},
   "outputs": [],
   "source": [
    "workbook.save('F:/OneDrive/jupyter notebook/excel_data/test.xls')\n",
    "#只能存为xls文件？"
   ]
  },
  {
   "cell_type": "markdown",
   "metadata": {},
   "source": [
    "# excel模板套用\n",
    "* xlutils\n",
    "* xlwt 常用样式\n",
    "----------\n",
    "将采购情况汇总到excel表格中\n",
    "1. 填入任意数字，格式：宋体，居左，上对齐\n",
    "2. 已有文字改为隶书\n",
    "3. 大于10的数字标记为红色"
   ]
  },
  {
   "cell_type": "code",
   "execution_count": 15,
   "metadata": {},
   "outputs": [],
   "source": [
    "from xlutils.copy import copy # 可复制原excel格式\n",
    "import xlrd\n",
    "import xlwt"
   ]
  },
  {
   "cell_type": "code",
   "execution_count": 16,
   "metadata": {},
   "outputs": [],
   "source": [
    "# 导入数据\n",
    "tem_excel = xlrd.open_workbook('F:/OneDrive/jupyter notebook/excel_data/日统计.xls', formatting_info=True)\n",
    "# 参数说明: formatting_info=True 保留原excel格式"
   ]
  },
  {
   "cell_type": "code",
   "execution_count": 17,
   "metadata": {},
   "outputs": [],
   "source": [
    "# 读取数据\n",
    "tem_sheet = tem_excel.sheet_by_index(0)\n",
    "\n",
    "new_excel = copy(tem_excel)\n",
    "new_sheet = new_excel.get_sheet(0)"
   ]
  },
  {
   "cell_type": "markdown",
   "metadata": {},
   "source": [
    "## 第一种样式"
   ]
  },
  {
   "cell_type": "code",
   "execution_count": 18,
   "metadata": {},
   "outputs": [],
   "source": [
    "# 定义数据格式\n",
    "style = xlwt.XFStyle() # 初始化样式\n",
    "\n",
    "font = xlwt.Font() # 为样式创建字体\n",
    "font.name = '微软雅黑'\n",
    "font.bold = True#加粗\n",
    "font.height = 360\n",
    "\n",
    "style.font = font# 设定样式"
   ]
  },
  {
   "cell_type": "code",
   "execution_count": 19,
   "metadata": {},
   "outputs": [],
   "source": [
    "# 边框\n",
    "borders = xlwt.Borders()# 初始化样式\n",
    "\n",
    "borders.top = xlwt.Borders.THIN\n",
    "borders.bottom = xlwt.Borders.THIN\n",
    "borders.left = xlwt.Borders.THIN\n",
    "borders.right = xlwt.Borders.THIN\n",
    "# 上下左右均加上边框\n",
    "\n",
    "style.borders = borders# 设定样式"
   ]
  },
  {
   "cell_type": "code",
   "execution_count": 20,
   "metadata": {},
   "outputs": [],
   "source": [
    "# 对其样式\n",
    "alignment = xlwt.Alignment()\n",
    "\n",
    "alignment.horz = xlwt.Alignment.HORZ_CENTER\n",
    "# May be: HORZ_GENERAL, HORZ_LEFT, HORZ_CENTER, HORZ_RIGHT, HORZ_FILLED, HORZ_JUSTIFIED, HORZ_CENTER_ACROSS_SEL, HORZ_DISTRIBUTED\n",
    "alignment.vert = xlwt.Alignment.VERT_CENTER\n",
    "# May be: VERT_TOP, VERT_CENTER, VERT_BOTTOM, VERT_JUSTIFIED, VERT_DISTRIBUTED\n",
    "\n",
    "style.alignment = alignment"
   ]
  },
  {
   "cell_type": "markdown",
   "metadata": {},
   "source": [
    "* VERT_TOP = 0x00 上端对齐\n",
    "* VERT_CENTER = 0x01 居中对齐（垂直方向上）\n",
    "* VERT_BOTTOM = 0x02 低端对齐\n",
    "* HORZ_LEFT = 0x01 左端对齐\n",
    "* HORZ_CENTER = 0x02 居中对齐（水平方向上）\n",
    "* HORZ_RIGHT = 0x03 右端对齐"
   ]
  },
  {
   "cell_type": "code",
   "execution_count": 21,
   "metadata": {},
   "outputs": [],
   "source": [
    "# 设置背景颜色\n",
    "pattern = xlwt.Pattern() # Create the Pattern\n",
    "\n",
    "pattern.pattern = xlwt.Pattern.SOLID_PATTERN # May be: NO_PATTERN, SOLID_PATTERN, or 0x00 through 0x12\n",
    "pattern.pattern_fore_colour = 5 # May be: 8 through 63. 0 = Black, 1 = White, 2 = Red, 3 = Green, 4 = Blue, 5 = Yellow, 6 = Magenta, 7 = Cyan, 16 = Maroon, 17 = Dark Green, 18 = Dark Blue, 19 = Dark Yellow , almost brown), 20 = Dark Magenta, 21 = Teal, 22 = Light Gray, 23 = Dark Gray, the list goes on...\n",
    "\n",
    "style = xlwt.XFStyle() # Create the Pattern\n",
    "style.pattern = pattern # Add Pattern to Style"
   ]
  },
  {
   "cell_type": "code",
   "execution_count": 22,
   "metadata": {},
   "outputs": [],
   "source": [
    "# 红色样式\n",
    "style_red = xlwt.XFStyle()\n",
    "\n",
    "font_red = xlwt.Font()\n",
    "font_red.name = '宋体'\n",
    "font_red.bold = True\n",
    "font_red.height = 360\n",
    "font_red.colour_index = 2\n",
    "style_red.font = font_red\n",
    "\n",
    "borders_red = xlwt.Borders()\n",
    "borders_red.top = xlwt.Borders.THIN\n",
    "borders_red.bottom = xlwt.Borders.THIN\n",
    "borders_red.left = xlwt.Borders.THIN\n",
    "borders_red.right = xlwt.Borders.THIN\n",
    "style_red.borders = borders_red\n",
    "\n",
    "alignment_red = xlwt.Alignment()\n",
    "alignment_red.horz = xlwt.Alignment.HORZ_LEFT\n",
    "alignment_red.vert = xlwt.Alignment.VERT_TOP\n",
    "style_red.alignment = alignment_red"
   ]
  },
  {
   "cell_type": "code",
   "execution_count": 23,
   "metadata": {},
   "outputs": [],
   "source": [
    "# 隶书样式1\n",
    "style_lishu18 = xlwt.XFStyle()\n",
    "\n",
    "font_lishu18 = xlwt.Font()\n",
    "font_lishu18.name = '隶书'\n",
    "font_lishu18.bold = True\n",
    "font_lishu18.height = 360\n",
    "style_lishu18.font = font_lishu18\n",
    "\n",
    "borders_lishu18 = xlwt.Borders()\n",
    "borders_lishu18.top = xlwt.Borders.THIN\n",
    "borders_lishu18.bottom = xlwt.Borders.THIN\n",
    "borders_lishu18.left = xlwt.Borders.THIN\n",
    "borders_lishu18.right = xlwt.Borders.THIN\n",
    "style_lishu18.borders = borders_lishu18\n",
    "\n",
    "alignment_lishu18 = xlwt.Alignment()\n",
    "alignment_lishu18.horz = xlwt.Alignment.HORZ_CENTER\n",
    "alignment_lishu18.vert = xlwt.Alignment.VERT_CENTER\n",
    "style_lishu18.alignment = alignment_lishu18"
   ]
  },
  {
   "cell_type": "code",
   "execution_count": 24,
   "metadata": {},
   "outputs": [],
   "source": [
    "# 隶书样式2\n",
    "style_lishu22 = xlwt.XFStyle()\n",
    "\n",
    "font_lishu22 = xlwt.Font()\n",
    "font_lishu22.name = '隶书'\n",
    "font_lishu22.bold = True\n",
    "font_lishu22.height = 440\n",
    "style_lishu22.font = font_lishu22\n",
    "\n",
    "borders_lishu22 = xlwt.Borders()\n",
    "borders_lishu22.top = xlwt.Borders.THIN\n",
    "borders_lishu22.bottom = xlwt.Borders.THIN\n",
    "borders_lishu22.left = xlwt.Borders.THIN\n",
    "borders_lishu22.right = xlwt.Borders.THIN\n",
    "style_lishu22.borders = borders_lishu22\n",
    "\n",
    "alignment_lishu22 = xlwt.Alignment()\n",
    "alignment_lishu22.horz = xlwt.Alignment.HORZ_CENTER\n",
    "alignment_lishu22.vert = xlwt.Alignment.VERT_CENTER\n",
    "style_lishu22.alignment = alignment_lishu22\n"
   ]
  },
  {
   "cell_type": "code",
   "execution_count": 25,
   "metadata": {},
   "outputs": [
    {
     "name": "stdout",
     "output_type": "stream",
     "text": [
      "请输入张三粮配入库量：43\n",
      "请输入李四粮食入库量：54\n",
      "请输入王五小麦入库量：6\n",
      "请输入赵六麦子专营入库量：8\n"
     ]
    }
   ],
   "source": [
    "# 录入数据\n",
    "zhangsan_num = int(input('请输入张三粮配入库量：'))\n",
    "lisi_num = int(input('请输入李四粮食入库量：'))\n",
    "wangwu_num = int(input('请输入王五小麦入库量：'))\n",
    "zhaoliu_num = int(input('请输入赵六麦子专营入库量：'))"
   ]
  },
  {
   "cell_type": "code",
   "execution_count": 26,
   "metadata": {},
   "outputs": [],
   "source": [
    "def stylex(x):\n",
    "    if x > 10:\n",
    "        return style_red\n",
    "    else:\n",
    "        return style"
   ]
  },
  {
   "cell_type": "code",
   "execution_count": 27,
   "metadata": {},
   "outputs": [],
   "source": [
    "new_sheet.write(0, 0, tem_sheet.cell_value(0, 0), style_lishu22)\n",
    "new_sheet.write(1, 0, tem_sheet.cell_value(1, 0), style_lishu18)\n",
    "new_sheet.write(1, 1, tem_sheet.cell_value(1, 1), style_lishu18)\n",
    "new_sheet.write(2, 0, tem_sheet.cell_value(2, 0), style_lishu18)\n",
    "new_sheet.write(3, 0, tem_sheet.cell_value(3, 0), style_lishu18)\n",
    "new_sheet.write(4, 0, tem_sheet.cell_value(4, 0), style_lishu18)\n",
    "new_sheet.write(5, 0, tem_sheet.cell_value(5, 0), style_lishu18)"
   ]
  },
  {
   "cell_type": "code",
   "execution_count": 28,
   "metadata": {},
   "outputs": [],
   "source": [
    "new_sheet.write(2, 1, zhangsan_num, stylex(zhangsan_num))\n",
    "new_sheet.write(3, 1, lisi_num, stylex(lisi_num))\n",
    "new_sheet.write(4, 1, wangwu_num, stylex(wangwu_num))\n",
    "new_sheet.write(5, 1, zhaoliu_num, stylex(zhaoliu_num))"
   ]
  },
  {
   "cell_type": "code",
   "execution_count": 29,
   "metadata": {},
   "outputs": [],
   "source": [
    "new_excel.save('F:/OneDrive/jupyter notebook/excel_data/填写.xls')"
   ]
  },
  {
   "cell_type": "markdown",
   "metadata": {},
   "source": [
    "# 统计入库信息"
   ]
  },
  {
   "cell_type": "code",
   "execution_count": 30,
   "metadata": {},
   "outputs": [],
   "source": [
    "#导入数据\n",
    "#data=xlrd.open_workbook('F:/OneDrive/jupyter notebook/excel_data/7月下旬入库表.xlsx') "
   ]
  },
  {
   "cell_type": "code",
   "execution_count": 34,
   "metadata": {},
   "outputs": [],
   "source": [
    "import pandas as pd\n",
    "import numpy as np"
   ]
  },
  {
   "cell_type": "code",
   "execution_count": 35,
   "metadata": {},
   "outputs": [
    {
     "data": {
      "text/html": [
       "<div>\n",
       "<style scoped>\n",
       "    .dataframe tbody tr th:only-of-type {\n",
       "        vertical-align: middle;\n",
       "    }\n",
       "\n",
       "    .dataframe tbody tr th {\n",
       "        vertical-align: top;\n",
       "    }\n",
       "\n",
       "    .dataframe thead th {\n",
       "        text-align: right;\n",
       "    }\n",
       "</style>\n",
       "<table border=\"1\" class=\"dataframe\">\n",
       "  <thead>\n",
       "    <tr style=\"text-align: right;\">\n",
       "      <th></th>\n",
       "      <th>日期</th>\n",
       "      <th>销售商</th>\n",
       "      <th>来源省份</th>\n",
       "      <th>单价（元/吨）</th>\n",
       "      <th>入库量（吨）</th>\n",
       "    </tr>\n",
       "  </thead>\n",
       "  <tbody>\n",
       "    <tr>\n",
       "      <td>0</td>\n",
       "      <td>2018-07-21</td>\n",
       "      <td>王五小麦</td>\n",
       "      <td>陕西</td>\n",
       "      <td>2900</td>\n",
       "      <td>41.39</td>\n",
       "    </tr>\n",
       "    <tr>\n",
       "      <td>1</td>\n",
       "      <td>2018-07-21</td>\n",
       "      <td>王五小麦</td>\n",
       "      <td>山东</td>\n",
       "      <td>2800</td>\n",
       "      <td>48.20</td>\n",
       "    </tr>\n",
       "    <tr>\n",
       "      <td>2</td>\n",
       "      <td>2018-07-21</td>\n",
       "      <td>李四粮食</td>\n",
       "      <td>河北</td>\n",
       "      <td>2700</td>\n",
       "      <td>46.21</td>\n",
       "    </tr>\n",
       "    <tr>\n",
       "      <td>3</td>\n",
       "      <td>2018-07-21</td>\n",
       "      <td>李四粮食</td>\n",
       "      <td>河北</td>\n",
       "      <td>2700</td>\n",
       "      <td>45.39</td>\n",
       "    </tr>\n",
       "    <tr>\n",
       "      <td>4</td>\n",
       "      <td>2018-07-21</td>\n",
       "      <td>张三粮配</td>\n",
       "      <td>河北</td>\n",
       "      <td>2700</td>\n",
       "      <td>48.17</td>\n",
       "    </tr>\n",
       "  </tbody>\n",
       "</table>\n",
       "</div>"
      ],
      "text/plain": [
       "          日期   销售商 来源省份  单价（元/吨）  入库量（吨）\n",
       "0 2018-07-21  王五小麦   陕西     2900   41.39\n",
       "1 2018-07-21  王五小麦   山东     2800   48.20\n",
       "2 2018-07-21  李四粮食   河北     2700   46.21\n",
       "3 2018-07-21  李四粮食   河北     2700   45.39\n",
       "4 2018-07-21  张三粮配   河北     2700   48.17"
      ]
     },
     "execution_count": 35,
     "metadata": {},
     "output_type": "execute_result"
    }
   ],
   "source": [
    "data = pd.read_excel('F:/OneDrive/jupyter notebook/excel_data/7月下旬入库表.xlsx')\n",
    "data.head()"
   ]
  },
  {
   "cell_type": "code",
   "execution_count": 63,
   "metadata": {},
   "outputs": [
    {
     "data": {
      "text/html": [
       "<div>\n",
       "<style scoped>\n",
       "    .dataframe tbody tr th:only-of-type {\n",
       "        vertical-align: middle;\n",
       "    }\n",
       "\n",
       "    .dataframe tbody tr th {\n",
       "        vertical-align: top;\n",
       "    }\n",
       "\n",
       "    .dataframe thead th {\n",
       "        text-align: right;\n",
       "    }\n",
       "</style>\n",
       "<table border=\"1\" class=\"dataframe\">\n",
       "  <thead>\n",
       "    <tr style=\"text-align: right;\">\n",
       "      <th></th>\n",
       "      <th>车</th>\n",
       "      <th>吨</th>\n",
       "    </tr>\n",
       "    <tr>\n",
       "      <th>销售商</th>\n",
       "      <th></th>\n",
       "      <th></th>\n",
       "    </tr>\n",
       "  </thead>\n",
       "  <tbody>\n",
       "    <tr>\n",
       "      <td>张三粮配</td>\n",
       "      <td>762340</td>\n",
       "      <td>12685</td>\n",
       "    </tr>\n",
       "    <tr>\n",
       "      <td>李四粮食</td>\n",
       "      <td>244020</td>\n",
       "      <td>4002</td>\n",
       "    </tr>\n",
       "    <tr>\n",
       "      <td>王五小麦</td>\n",
       "      <td>3211920</td>\n",
       "      <td>52675</td>\n",
       "    </tr>\n",
       "    <tr>\n",
       "      <td>赵六麦子专营</td>\n",
       "      <td>836580</td>\n",
       "      <td>13608</td>\n",
       "    </tr>\n",
       "  </tbody>\n",
       "</table>\n",
       "</div>"
      ],
      "text/plain": [
       "              车      吨\n",
       "销售商                   \n",
       "张三粮配     762340  12685\n",
       "李四粮食     244020   4002\n",
       "王五小麦    3211920  52675\n",
       "赵六麦子专营   836580  13608"
      ]
     },
     "execution_count": 63,
     "metadata": {},
     "output_type": "execute_result"
    }
   ],
   "source": [
    "sum=data.groupby('销售商').sum()\n",
    "sum.rename(columns={'单价（元/吨）': '车','入库量（吨）': '吨'}, inplace = True) \n",
    "sum.astype(np.int64)  "
   ]
  },
  {
   "cell_type": "code",
   "execution_count": 64,
   "metadata": {},
   "outputs": [
    {
     "data": {
      "text/plain": [
       "销售商\n",
       "张三粮配        9670496355\n",
       "李四粮食         976748614\n",
       "王五小麦      169189491960\n",
       "赵六麦子专营     11384699319\n",
       "Name: 总价, dtype: int64"
      ]
     },
     "execution_count": 64,
     "metadata": {},
     "output_type": "execute_result"
    }
   ],
   "source": [
    "sum['总价']=sum['车']*sum['吨']\n",
    "sum['总价'].astype(np.int64)  "
   ]
  },
  {
   "cell_type": "code",
   "execution_count": 66,
   "metadata": {},
   "outputs": [
    {
     "data": {
      "text/html": [
       "<div>\n",
       "<style scoped>\n",
       "    .dataframe tbody tr th:only-of-type {\n",
       "        vertical-align: middle;\n",
       "    }\n",
       "\n",
       "    .dataframe tbody tr th {\n",
       "        vertical-align: top;\n",
       "    }\n",
       "\n",
       "    .dataframe thead th {\n",
       "        text-align: right;\n",
       "    }\n",
       "</style>\n",
       "<table border=\"1\" class=\"dataframe\">\n",
       "  <thead>\n",
       "    <tr style=\"text-align: right;\">\n",
       "      <th></th>\n",
       "      <th>车</th>\n",
       "      <th>吨</th>\n",
       "      <th>总价</th>\n",
       "    </tr>\n",
       "    <tr>\n",
       "      <th>销售商</th>\n",
       "      <th></th>\n",
       "      <th></th>\n",
       "      <th></th>\n",
       "    </tr>\n",
       "  </thead>\n",
       "  <tbody>\n",
       "    <tr>\n",
       "      <td>张三粮配</td>\n",
       "      <td>762340</td>\n",
       "      <td>12685.28</td>\n",
       "      <td>9.670496e+09</td>\n",
       "    </tr>\n",
       "    <tr>\n",
       "      <td>李四粮食</td>\n",
       "      <td>244020</td>\n",
       "      <td>4002.74</td>\n",
       "      <td>9.767486e+08</td>\n",
       "    </tr>\n",
       "    <tr>\n",
       "      <td>王五小麦</td>\n",
       "      <td>3211920</td>\n",
       "      <td>52675.50</td>\n",
       "      <td>1.691895e+11</td>\n",
       "    </tr>\n",
       "    <tr>\n",
       "      <td>赵六麦子专营</td>\n",
       "      <td>836580</td>\n",
       "      <td>13608.62</td>\n",
       "      <td>1.138470e+10</td>\n",
       "    </tr>\n",
       "  </tbody>\n",
       "</table>\n",
       "</div>"
      ],
      "text/plain": [
       "              车         吨            总价\n",
       "销售商                                    \n",
       "张三粮配     762340  12685.28  9.670496e+09\n",
       "李四粮食     244020   4002.74  9.767486e+08\n",
       "王五小麦    3211920  52675.50  1.691895e+11\n",
       "赵六麦子专营   836580  13608.62  1.138470e+10"
      ]
     },
     "execution_count": 66,
     "metadata": {},
     "output_type": "execute_result"
    }
   ],
   "source": [
    "sum"
   ]
  },
  {
   "cell_type": "code",
   "execution_count": 41,
   "metadata": {},
   "outputs": [],
   "source": [
    "style = xlwt.XFStyle()\n",
    "\n",
    "font = xlwt.Font()\n",
    "font.name = '微软雅黑'\n",
    "font.bold = True\n",
    "font.height = 360\n",
    "style.font = font\n",
    "\n",
    "borders = xlwt.Borders()\n",
    "borders.top = xlwt.Borders.THIN\n",
    "borders.bottom = xlwt.Borders.THIN\n",
    "borders.left = xlwt.Borders.THIN\n",
    "borders.right = xlwt.Borders.THIN\n",
    "style.borders = borders\n",
    "\n",
    "alignment = xlwt.Alignment()\n",
    "alignment.horz = xlwt.Alignment.HORZ_CENTER\n",
    "alignment.vert = xlwt.Alignment.VERT_CENTER\n",
    "style.alignment = alignment"
   ]
  },
  {
   "cell_type": "code",
   "execution_count": 43,
   "metadata": {},
   "outputs": [],
   "source": [
    "tem_excel = xlrd.open_workbook('F:/OneDrive/jupyter notebook/excel_data/统计表_模板.xls', formatting_info=True)\n",
    "tem_sheet = tem_excel.sheet_by_index(0)\n",
    "\n",
    "new_excel = copy(tem_excel)\n",
    "new_sheet = new_excel.get_sheet(0)"
   ]
  },
  {
   "cell_type": "code",
   "execution_count": 44,
   "metadata": {},
   "outputs": [],
   "source": [
    "style = xlwt.XFStyle()\n",
    "\n",
    "font = xlwt.Font()\n",
    "font.name = '微软雅黑'\n",
    "font.bold = True\n",
    "font.height = 360\n",
    "style.font = font\n",
    "\n",
    "borders = xlwt.Borders()\n",
    "borders.top = xlwt.Borders.THIN\n",
    "borders.bottom = xlwt.Borders.THIN\n",
    "borders.left = xlwt.Borders.THIN\n",
    "borders.right = xlwt.Borders.THIN\n",
    "style.borders = borders\n",
    "\n",
    "alignment = xlwt.Alignment()\n",
    "alignment.horz = xlwt.Alignment.HORZ_CENTER\n",
    "alignment.vert = xlwt.Alignment.VERT_CENTER\n",
    "style.alignment = alignment"
   ]
  },
  {
   "cell_type": "code",
   "execution_count": 61,
   "metadata": {},
   "outputs": [],
   "source": [
    "new_sheet.write(2, 1, int(sum.iloc[0,0]), style)  \n",
    "new_sheet.write(2, 2, int(sum.iloc[0,1]), style)\n",
    "new_sheet.write(2, 3, int(sum.iloc[0,2]), style)\n",
    "new_sheet.write(3, 1, int(sum.iloc[1,0]), style)\n",
    "new_sheet.write(3, 2, int(sum.iloc[1,1]), style)\n",
    "new_sheet.write(3, 3, int(sum.iloc[1,2]), style)\n",
    "new_sheet.write(4, 1, int(sum.iloc[2,0]), style)\n",
    "new_sheet.write(4, 2, int(sum.iloc[2,1]), style)\n",
    "new_sheet.write(4, 3, int(sum.iloc[2,2]), style)\n",
    "new_sheet.write(5, 1, int(sum.iloc[3,0]), style)\n",
    "new_sheet.write(5, 2, int(sum.iloc[3,1]), style)\n",
    "new_sheet.write(5, 3, int(sum.iloc[3,2]), style)"
   ]
  },
  {
   "cell_type": "code",
   "execution_count": 62,
   "metadata": {},
   "outputs": [],
   "source": [
    "new_excel.save('F:/OneDrive/jupyter notebook/excel_data/7月下旬统计表.xls')"
   ]
  },
  {
   "cell_type": "code",
   "execution_count": null,
   "metadata": {},
   "outputs": [],
   "source": []
  }
 ],
 "metadata": {
  "kernelspec": {
   "display_name": "Python 3",
   "language": "python",
   "name": "python3"
  },
  "language_info": {
   "codemirror_mode": {
    "name": "ipython",
    "version": 3
   },
   "file_extension": ".py",
   "mimetype": "text/x-python",
   "name": "python",
   "nbconvert_exporter": "python",
   "pygments_lexer": "ipython3",
   "version": "3.7.4"
  },
  "latex_envs": {
   "LaTeX_envs_menu_present": true,
   "autoclose": false,
   "autocomplete": true,
   "bibliofile": "biblio.bib",
   "cite_by": "apalike",
   "current_citInitial": 1,
   "eqLabelWithNumbers": true,
   "eqNumInitial": 1,
   "hotkeys": {
    "equation": "Ctrl-E",
    "itemize": "Ctrl-I"
   },
   "labels_anchors": false,
   "latex_user_defs": false,
   "report_style_numbering": false,
   "user_envs_cfg": false
  }
 },
 "nbformat": 4,
 "nbformat_minor": 2
}
