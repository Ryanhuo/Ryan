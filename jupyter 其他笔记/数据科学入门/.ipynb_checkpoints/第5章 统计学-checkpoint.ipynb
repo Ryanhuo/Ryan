{
 "cells": [
  {
   "cell_type": "markdown",
   "metadata": {},
   "source": [
    "# 统计学\n",
    "## 描述单个数据集"
   ]
  },
  {
   "cell_type": "code",
   "execution_count": 7,
   "metadata": {},
   "outputs": [
    {
     "data": {
      "image/png": "[encoded data removed]",
      "text/plain": [
       "<Figure size 432x288 with 1 Axes>"
      ]
     },
     "metadata": {
      "needs_background": "light"
     },
     "output_type": "display_data"
    }
   ],
   "source": [
    "import matplotlib as mpl\n",
    "from matplotlib import pyplot as plt\n",
    "plt.rcParams['font.sans-serif'] = ['Arial Unicode MS']\n",
    "plt.rcParams['axes.unicode_minus'] = False\n",
    "\n",
    "\n",
    "import collections\n",
    "\n",
    "num_friends=[12,33,56,78,65,35,12,33,56,78,65,35,12,33,56,78,65,35,12,33,56,78,65,35,43,23,11,11,33,6,78,65,35,12,33]\n",
    "friend_counts = collections.Counter(num_friends)\n",
    "xs = range(101) \n",
    "ys = [friend_counts[x] for x in xs] \n",
    "plt.bar(xs, ys)\n",
    "plt.axis([0, 80, 0, 10])\n",
    "plt.title('朋友数的直方图')\n",
    "plt.xlabel(\"朋友个数\")\n",
    "plt.ylabel(\"人数\")\n",
    "plt.show()"
   ]
  },
  {
   "cell_type": "markdown",
   "metadata": {},
   "source": [
    "### 简单描述变量"
   ]
  },
  {
   "cell_type": "code",
   "execution_count": 9,
   "metadata": {},
   "outputs": [
    {
     "name": "stdout",
     "output_type": "stream",
     "text": [
      "35\n"
     ]
    }
   ],
   "source": [
    "num_points=len(num_friends)\n",
    "print(num_points)"
   ]
  },
  {
   "cell_type": "code",
   "execution_count": 11,
   "metadata": {},
   "outputs": [
    {
     "name": "stdout",
     "output_type": "stream",
     "text": [
      "78 6\n"
     ]
    }
   ],
   "source": [
    "largest_value=max(num_friends)\n",
    "smallest_value=min(num_friends)\n",
    "print(largest_value,smallest_value)"
   ]
  },
  {
   "cell_type": "code",
   "execution_count": 13,
   "metadata": {},
   "outputs": [
    {
     "name": "stdout",
     "output_type": "stream",
     "text": [
      "[6, 11, 11, 12, 12, 12, 12, 12, 23, 33, 33, 33, 33, 33, 33, 35, 35, 35, 35, 35, 43, 56, 56, 56, 56, 65, 65, 65, 65, 65, 78, 78, 78, 78, 78]\n"
     ]
    }
   ],
   "source": [
    "sorted_values=sorted(num_friends)\n",
    "print(sorted_values)\n",
    "# 可以根据排序找得到最值"
   ]
  },
  {
   "cell_type": "markdown",
   "metadata": {},
   "source": [
    "### 中心倾向"
   ]
  },
  {
   "cell_type": "code",
   "execution_count": 16,
   "metadata": {},
   "outputs": [
    {
     "data": {
      "text/plain": [
       "41.885714285714286"
      ]
     },
     "execution_count": 16,
     "metadata": {},
     "output_type": "execute_result"
    }
   ],
   "source": [
    "# 平均值\n",
    "def mean(x):\n",
    "    return sum(x)/len(x)\n",
    "\n",
    "mean(num_friends)"
   ]
  },
  {
   "cell_type": "code",
   "execution_count": 20,
   "metadata": {},
   "outputs": [
    {
     "data": {
      "text/plain": [
       "35"
      ]
     },
     "execution_count": 20,
     "metadata": {},
     "output_type": "execute_result"
    }
   ],
   "source": [
    "# 中位数\n",
    "def median(x):\n",
    "    sorted_v=sorted(x)\n",
    "    n=len(x)\n",
    "    midpoint=n//2\n",
    "    if n%2==1:\n",
    "        return sorted_v[midpoint]\n",
    "    else:\n",
    "        mid1=midpoint\n",
    "        mid2=midpoint-1\n",
    "        return (sorted_v[mid1]+sorted_v[mid2])/2\n",
    "        \n",
    "median(num_friends)"
   ]
  },
  {
   "cell_type": "code",
   "execution_count": 24,
   "metadata": {},
   "outputs": [
    {
     "data": {
      "text/plain": [
       "35"
      ]
     },
     "execution_count": 24,
     "metadata": {},
     "output_type": "execute_result"
    }
   ],
   "source": [
    "# 分位数\n",
    "def quantile(x,p):\n",
    "    p_index=int(p*len(x))\n",
    "    return sorted(x)[p_index]\n",
    "\n",
    "quantile(num_friends,0.5)"
   ]
  },
  {
   "cell_type": "code",
   "execution_count": 50,
   "metadata": {},
   "outputs": [
    {
     "data": {
      "text/plain": [
       "33"
      ]
     },
     "execution_count": 50,
     "metadata": {},
     "output_type": "execute_result"
    }
   ],
   "source": [
    "# 众数\n",
    "def mode(x):\n",
    "    counts=dict(collections.Counter(x))#字典形式\n",
    "    max_count=max(counts.values())\n",
    "    for key,value in counts.items():\n",
    "        if value==max_count:\n",
    "            return key\n",
    "\n",
    "mode(num_friends)\n",
    "    "
   ]
  },
  {
   "cell_type": "markdown",
   "metadata": {},
   "source": [
    "### 离散度"
   ]
  },
  {
   "cell_type": "code",
   "execution_count": 51,
   "metadata": {},
   "outputs": [
    {
     "data": {
      "text/plain": [
       "72"
      ]
     },
     "execution_count": 51,
     "metadata": {},
     "output_type": "execute_result"
    }
   ],
   "source": [
    "#极差\n",
    "def data_range(x):\n",
    "    return max(x)-min(x)\n",
    "\n",
    "data_range(num_friends)"
   ]
  },
  {
   "cell_type": "code",
   "execution_count": null,
   "metadata": {},
   "outputs": [],
   "source": [
    "#方差\n",
    "def de_mean(x):\n",
    "    m=mean(x)\n",
    "    for x_i in x:\n",
    "        "
   ]
  }
 ],
 "metadata": {
  "kernelspec": {
   "display_name": "Python 3",
   "language": "python",
   "name": "python3"
  },
  "language_info": {
   "codemirror_mode": {
    "name": "ipython",
    "version": 3
   },
   "file_extension": ".py",
   "mimetype": "text/x-python",
   "name": "python",
   "nbconvert_exporter": "python",
   "pygments_lexer": "ipython3",
   "version": "3.7.3"
  },
  "toc": {
   "base_numbering": 1,
   "nav_menu": {},
   "number_sections": true,
   "sideBar": true,
   "skip_h1_title": false,
   "title_cell": "Table of Contents",
   "title_sidebar": "Contents",
   "toc_cell": false,
   "toc_position": {},
   "toc_section_display": true,
   "toc_window_display": true
  }
 },
 "nbformat": 4,
 "nbformat_minor": 2
}
