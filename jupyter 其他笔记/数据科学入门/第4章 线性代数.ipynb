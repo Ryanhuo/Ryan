{
 "cells": [
  {
   "cell_type": "markdown",
   "metadata": {
    "code_folding": []
   },
   "source": [
    "# 向量\n",
    "\n",
    "* 可以加总生成新的向量，可以乘以一个标量，也可以生成新的向量对象\n",
    "* 有限空间的点\n",
    "\n",
    "## 加法\n",
    "\n",
    "向量以分量方式运算。如果向量v和w长度相同。\n",
    "\n",
    "向量的第一个元素=v[0]+w\\[0\\]\n",
    "\n",
    "向量的第二个元素=v[1]+w[1]"
   ]
  },
  {
   "cell_type": "code",
   "execution_count": 1,
   "metadata": {},
   "outputs": [
    {
     "data": {
      "text/plain": [
       "[2, 5]"
      ]
     },
     "execution_count": 1,
     "metadata": {},
     "output_type": "execute_result"
    }
   ],
   "source": [
    "def vector_add(v,w):\n",
    "    return[v_i + w_i\n",
    "          for v_i,w_i in zip(v,w)]\n",
    "#zip可以把多个列表转换为一个对应元素的单列表\n",
    "\n",
    "vector_add([1,2],[1,3])"
   ]
  },
  {
   "cell_type": "code",
   "execution_count": 2,
   "metadata": {},
   "outputs": [
    {
     "name": "stdout",
     "output_type": "stream",
     "text": [
      "[('a', 1), ('b', 2), ('c', 3)]\n"
     ]
    }
   ],
   "source": [
    "list1=['a','b','c']\n",
    "list2=[1,2,3]\n",
    "zip_1=zip(list1,list2)\n",
    "print(list(zip_1))"
   ]
  },
  {
   "cell_type": "code",
   "execution_count": 3,
   "metadata": {},
   "outputs": [
    {
     "data": {
      "text/plain": [
       "[2, 5]"
      ]
     },
     "execution_count": 3,
     "metadata": {},
     "output_type": "execute_result"
    }
   ],
   "source": [
    "#向量减法\n",
    "def vector_subtract(v,w):\n",
    "    return[v_i - w_i\n",
    "          for v_i,w_i in zip(v,w)]\n",
    "#zip可以把多个列表转换为一个对应元素的单列表\n",
    "\n",
    "vector_add([1,2],[1,3])"
   ]
  },
  {
   "cell_type": "markdown",
   "metadata": {},
   "source": [
    "## 多向量加法"
   ]
  },
  {
   "cell_type": "code",
   "execution_count": 4,
   "metadata": {},
   "outputs": [
    {
     "name": "stdout",
     "output_type": "stream",
     "text": [
      "[2, 5]\n"
     ]
    }
   ],
   "source": [
    "def vector_sum(vectors):\n",
    "    result=vectors[0]\n",
    "    for vector in vectors[1:]:\n",
    "        result=vector_add(result,vector)\n",
    "        return result\n",
    "    \n",
    "vectors_1=[[1,2],[1,3],[3,4]]\n",
    "print(vector_sum(vectors_1))"
   ]
  },
  {
   "cell_type": "code",
   "execution_count": 5,
   "metadata": {},
   "outputs": [],
   "source": [
    "#reduce函数\n",
    "def add(x, y) :            # 两数相加\n",
    "     return x + y\n",
    "     reduce(add, [1,2,3,4,5])   # 计算列表和：1+2+3+4+5  \n",
    "# reduce(lambda x, y: x+y, [1,2,3,4,5])"
   ]
  },
  {
   "cell_type": "code",
   "execution_count": 6,
   "metadata": {},
   "outputs": [
    {
     "name": "stdout",
     "output_type": "stream",
     "text": [
      "[5, 9]\n"
     ]
    }
   ],
   "source": [
    "import functools\n",
    "def vector_sum(vectors):\n",
    "    return functools.reduce(vector_add,vectors)\n",
    "    \n",
    "vectors_1=[[1,2],[1,3],[3,4]]\n",
    "print(vector_sum(vectors_1))  "
   ]
  },
  {
   "cell_type": "markdown",
   "metadata": {},
   "source": [
    "## 向量乘以标量"
   ]
  },
  {
   "cell_type": "code",
   "execution_count": 7,
   "metadata": {},
   "outputs": [],
   "source": [
    "def scalar_multiply(c, v):\n",
    "    return [c * v_i for v_i in v]"
   ]
  },
  {
   "cell_type": "markdown",
   "metadata": {},
   "source": [
    "## 向量长度的均值"
   ]
  },
  {
   "cell_type": "code",
   "execution_count": 8,
   "metadata": {},
   "outputs": [],
   "source": [
    "def vector_mean(vectors):\n",
    "    n=lien(vectors)\n",
    "    return scalar_multiply(1/n,vector_sum(vectors))"
   ]
  },
  {
   "attachments": {},
   "cell_type": "markdown",
   "metadata": {},
   "source": [
    "## 向量的点乘\n",
    "点乘衡量了向量v在向量w方向延伸的程度。即**将v在w上投影所得到的向量的长度**\n",
    "\n",
    "![点乘即投影](./pics/1.png)"
   ]
  },
  {
   "cell_type": "code",
   "execution_count": 9,
   "metadata": {},
   "outputs": [],
   "source": [
    "def dot(v, w):\n",
    "    return sum(v_i * w_i\n",
    "    for v_i, w_i in zip(v, w))"
   ]
  },
  {
   "cell_type": "markdown",
   "metadata": {},
   "source": [
    "## 向量的平方和"
   ]
  },
  {
   "cell_type": "code",
   "execution_count": 10,
   "metadata": {},
   "outputs": [],
   "source": [
    "def sum_of_squares(v):\n",
    "    return dot(v,v)"
   ]
  },
  {
   "cell_type": "markdown",
   "metadata": {},
   "source": [
    "## 向量的大小"
   ]
  },
  {
   "cell_type": "code",
   "execution_count": 11,
   "metadata": {},
   "outputs": [],
   "source": [
    "import math\n",
    "\n",
    "def magnitude(v):\n",
    "    return math.sqrt(sum_of_squares(v))#开跟号"
   ]
  },
  {
   "cell_type": "markdown",
   "metadata": {},
   "source": [
    "## 向量的距离\n",
    "$$\\sqrt{(v_1-w_1)^2+....+(v_n-w_n)^2}$$\n",
    "即"
   ]
  },
  {
   "cell_type": "code",
   "execution_count": 12,
   "metadata": {},
   "outputs": [],
   "source": [
    "def distance(v,w):\n",
    "    return magnitude(vector_subtract(v,w))"
   ]
  },
  {
   "cell_type": "markdown",
   "metadata": {},
   "source": [
    "# 矩阵\n",
    "* 二维的数据集合\n",
    "* 可以表示为列表的列表\n",
    "* A[i][j]表示第i行第j列\n",
    "* 数学通常用大写字母表示矩阵\n",
    "\n",
    "$$A=\\begin{pmatrix}1&2&3\\\\4&5&6\\end{pmatrix}$$\n",
    "\n",
    "即\n",
    "A=[[1,2,3],\n",
    "    [4,5,6]]\n",
    "> A有2行3列\n",
    "\n",
    "## 矩阵的形状"
   ]
  },
  {
   "cell_type": "code",
   "execution_count": 14,
   "metadata": {},
   "outputs": [],
   "source": [
    "def shape(A):\n",
    "    num_rows=len(A)\n",
    "    num_cols=len(A[0])\n",
    "    return num_rows,num_cols"
   ]
  },
  {
   "cell_type": "markdown",
   "metadata": {},
   "source": [
    "如果矩阵有n行k列，记$n*k$矩阵\n",
    "\n",
    "* 每一行是长度为k的向量\n",
    "* 每一列是长度为n的向量"
   ]
  },
  {
   "cell_type": "code",
   "execution_count": 21,
   "metadata": {},
   "outputs": [
    {
     "data": {
      "text/plain": [
       "[2, 5]"
      ]
     },
     "execution_count": 21,
     "metadata": {},
     "output_type": "execute_result"
    }
   ],
   "source": [
    "def get_row(A,i):\n",
    "    return A[i]\n",
    "\n",
    "def get_col(A,j):\n",
    "    A_col=[]\n",
    "    for A_i in A:\n",
    "        A_col.append(A_i[j])\n",
    "    return A_col\n",
    "   \n",
    "A=[[1,2,3], [4,5,6]]\n",
    "get_col(A,1)"
   ]
  },
  {
   "cell_type": "markdown",
   "metadata": {},
   "source": [
    "根据形状和用来生成元素的函数来创建矩阵"
   ]
  },
  {
   "cell_type": "code",
   "execution_count": 28,
   "metadata": {
    "code_folding": []
   },
   "outputs": [],
   "source": [
    "def make_matrix(num_rows, num_cols, entry_fn):\n",
    "    return [[entry_fn(i, j)for j in range(num_cols)] for i in range(num_rows)] "
   ]
  },
  {
   "cell_type": "markdown",
   "metadata": {},
   "source": [
    "单位矩阵的创建"
   ]
  },
  {
   "cell_type": "code",
   "execution_count": 31,
   "metadata": {},
   "outputs": [
    {
     "data": {
      "text/plain": [
       "[[1, 0, 0, 0, 0],\n",
       " [0, 1, 0, 0, 0],\n",
       " [0, 0, 1, 0, 0],\n",
       " [0, 0, 0, 1, 0],\n",
       " [0, 0, 0, 0, 1]]"
      ]
     },
     "execution_count": 31,
     "metadata": {},
     "output_type": "execute_result"
    }
   ],
   "source": [
    "def is_diagonal(i,j):\n",
    "    if i==j:\n",
    "        return 1\n",
    "    else:\n",
    "        return 0\n",
    "    \n",
    "make_matrix(5,5,is_diagonal)"
   ]
  },
  {
   "cell_type": "markdown",
   "metadata": {},
   "source": [
    "**矩阵的重要性**\n",
    "1. 矩阵表示一个包含多维度的数据\n",
    "\n",
    "2. 可以用$n*k$矩阵表示一个线性函数，这个函数将k维的向量映射到一个n维的向量上\n",
    "\n",
    "3. 矩阵表示二维关系，例：如果节点i和节点j有关系，A[i][j]=1,反之可为0"
   ]
  },
  {
   "cell_type": "code",
   "execution_count": null,
   "metadata": {},
   "outputs": [],
   "source": []
  }
 ],
 "metadata": {
  "kernelspec": {
   "display_name": "Python 3",
   "language": "python",
   "name": "python3"
  },
  "language_info": {
   "codemirror_mode": {
    "name": "ipython",
    "version": 3
   },
   "file_extension": ".py",
   "mimetype": "text/x-python",
   "name": "python",
   "nbconvert_exporter": "python",
   "pygments_lexer": "ipython3",
   "version": "3.7.3"
  },
  "toc": {
   "base_numbering": 1,
   "nav_menu": {},
   "number_sections": true,
   "sideBar": true,
   "skip_h1_title": false,
   "title_cell": "Table of Contents",
   "title_sidebar": "Contents",
   "toc_cell": false,
   "toc_position": {},
   "toc_section_display": true,
   "toc_window_display": true
  }
 },
 "nbformat": 4,
 "nbformat_minor": 2
}
