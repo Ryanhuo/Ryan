{
 "cells": [
  {
   "cell_type": "markdown",
   "metadata": {},
   "source": [
    "# 获取数据"
   ]
  },
  {
   "cell_type": "code",
   "execution_count": 1,
   "metadata": {},
   "outputs": [],
   "source": [
    "from sklearn.model_selection import train_test_split\n",
    "from sklearn.metrics import mean_squared_error\n",
    "from sklearn.datasets import load_boston\n",
    "from sklearn.ensemble import AdaBoostRegressor\n",
    "from sklearn.tree import DecisionTreeRegressor\n",
    "import matplotlib.pyplot as plt\n",
    "import numpy as np"
   ]
  },
  {
   "cell_type": "code",
   "execution_count": 2,
   "metadata": {},
   "outputs": [],
   "source": [
    "data=load_boston()\n",
    "train_x, test_x, train_y, test_y = train_test_split(data.data, data.target, test_size=0.25, random_state=33)"
   ]
  },
  {
   "cell_type": "markdown",
   "metadata": {},
   "source": [
    "# adaboost回归"
   ]
  },
  {
   "cell_type": "code",
   "execution_count": 3,
   "metadata": {},
   "outputs": [
    {
     "name": "stdout",
     "output_type": "stream",
     "text": [
      "均方误差 =  18.081571629472442\n"
     ]
    }
   ],
   "source": [
    "# 使用AdaBoost回归模型\n",
    "regressor=AdaBoostRegressor()\n",
    "regressor.fit(train_x,train_y)\n",
    "pred_y = regressor.predict(test_x)\n",
    "mse = mean_squared_error(test_y, pred_y)\n",
    "print(\"均方误差 = \",mse)"
   ]
  },
  {
   "cell_type": "markdown",
   "metadata": {},
   "source": [
    "# 与决策树比较"
   ]
  },
  {
   "cell_type": "code",
   "execution_count": 4,
   "metadata": {},
   "outputs": [
    {
     "name": "stdout",
     "output_type": "stream",
     "text": [
      "均方误差 =  26.257401574803154\n"
     ]
    }
   ],
   "source": [
    "dt=DecisionTreeRegressor()\n",
    "dt.fit(train_x,train_y)\n",
    "pred_y = dt.predict(test_x)\n",
    "dt_err= mean_squared_error(test_y, pred_y)\n",
    "print(\"均方误差 = \",dt_err)"
   ]
  },
  {
   "cell_type": "markdown",
   "metadata": {},
   "source": [
    "# 对比两种算法情况（copy）"
   ]
  },
  {
   "cell_type": "code",
   "execution_count": 5,
   "metadata": {},
   "outputs": [
    {
     "data": {
      "image/png": "[encoded data removed]",
      "text/plain": [
       "<Figure size 432x288 with 1 Axes>"
      ]
     },
     "metadata": {
      "needs_background": "light"
     },
     "output_type": "display_data"
    }
   ],
   "source": [
    "\n",
    "import numpy as np\n",
    "import matplotlib.pyplot as plt\n",
    "from sklearn import datasets\n",
    "from sklearn.metrics import zero_one_loss\n",
    "from sklearn.tree import DecisionTreeClassifier\n",
    "from sklearn.ensemble import  AdaBoostClassifier\n",
    "import warnings \n",
    "warnings.filterwarnings('ignore')\n",
    "\n",
    "import matplotlib.pyplot as plt\n",
    "import seaborn as sns\n",
    "plt.rcParams['font.sans-serif']=['Heiti TC']# 显示中文字体\n",
    "# 设置AdaBoost迭代次数\n",
    "n_estimators=200\n",
    "# 使用\n",
    "X,y=datasets.make_hastie_10_2(n_samples=12000,random_state=1)\n",
    "# 从12000个数据中取前2000行作为测试集，其余作为训练集\n",
    "train_x, train_y = X[2000:],y[2000:]\n",
    "test_x, test_y = X[:2000],y[:2000]\n",
    "# 弱分类器\n",
    "dt_stump = DecisionTreeClassifier(max_depth=1,min_samples_leaf=1)\n",
    "dt_stump.fit(train_x, train_y)\n",
    "dt_stump_err = 1.0-dt_stump.score(test_x, test_y)\n",
    "# 决策树分类器\n",
    "dt = DecisionTreeClassifier()\n",
    "dt.fit(train_x,  train_y)\n",
    "dt_err = 1.0-dt.score(test_x, test_y)\n",
    "# AdaBoost分类器\n",
    "ada = AdaBoostClassifier(base_estimator=dt_stump,n_estimators=n_estimators)\n",
    "ada.fit(train_x,  train_y)\n",
    "# 三个分类器的错误率可视化\n",
    "fig = plt.figure()\n",
    "\n",
    "ax = fig.add_subplot(111)\n",
    "ax.plot([1,n_estimators],[dt_stump_err]*2, 'k-', label=u'决策树弱分类器 错误率')\n",
    "ax.plot([1,n_estimators],[dt_err]*2,'k--', label=u'决策树模型 错误率')\n",
    "ada_err = np.zeros((n_estimators,))\n",
    "# 遍历每次迭代的结果 i为迭代次数, pred_y为预测结果\n",
    "for i,pred_y in enumerate(ada.staged_predict(test_x)):\n",
    "     # 统计错误率\n",
    "    ada_err[i]=zero_one_loss(pred_y, test_y)\n",
    "# 绘制每次迭代的AdaBoost错误率 \n",
    "ax.plot(np.arange(n_estimators)+1, ada_err, label='AdaBoost Test 错误率', color='orange')\n",
    "ax.set_xlabel('迭代次数')\n",
    "ax.set_ylabel('错误率')\n",
    "leg=ax.legend(loc='upper right',fancybox=True)\n",
    "plt.show()"
   ]
  }
 ],
 "metadata": {
  "kernelspec": {
   "display_name": "Python 3.7.3 64-bit ('base': conda)",
   "language": "python",
   "name": "python37364bitbaseconda49c3178403d1439ca0e62a4e7df9e495"
  },
  "language_info": {
   "codemirror_mode": {
    "name": "ipython",
    "version": 3
   },
   "file_extension": ".py",
   "mimetype": "text/x-python",
   "name": "python",
   "nbconvert_exporter": "python",
   "pygments_lexer": "ipython3",
   "version": "3.7.3"
  },
  "toc": {
   "base_numbering": 1,
   "nav_menu": {},
   "number_sections": true,
   "sideBar": true,
   "skip_h1_title": false,
   "title_cell": "Table of Contents",
   "title_sidebar": "Contents",
   "toc_cell": false,
   "toc_position": {},
   "toc_section_display": true,
   "toc_window_display": false
  }
 },
 "nbformat": 4,
 "nbformat_minor": 4
}
