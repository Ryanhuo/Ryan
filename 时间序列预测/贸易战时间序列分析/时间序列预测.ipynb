{
 "cells": [
  {
   "cell_type": "code",
   "execution_count": 1,
   "metadata": {},
   "outputs": [],
   "source": [
    "import pandas as pd\n",
    "import matplotlib.pyplot as plt\n",
    "import statsmodels.api as sm\n",
    "from statsmodels.tsa.arima_model import ARMA\n",
    "from itertools import product\n",
    "from statsmodels.graphics.api import qqplot\n",
    "import warnings\n",
    "warnings.filterwarnings('ignore')\n",
    "plt.rcParams['font.sans-serif']=['Heiti TC']# 显示中文字体"
   ]
  },
  {
   "cell_type": "code",
   "execution_count": 2,
   "metadata": {},
   "outputs": [],
   "source": [
    "# 导入数据\n",
    "data=pd.read_csv('data.csv',sep=\",\",encoding='gb2312')\n",
    "# 将格式转为时间\n",
    "data['Time']=pd.to_datetime(data['Time'],dayfirst=True, errors='coerce')"
   ]
  },
  {
   "cell_type": "code",
   "execution_count": 3,
   "metadata": {},
   "outputs": [
    {
     "data": {
      "text/html": [
       "<div>\n",
       "<style scoped>\n",
       "    .dataframe tbody tr th:only-of-type {\n",
       "        vertical-align: middle;\n",
       "    }\n",
       "\n",
       "    .dataframe tbody tr th {\n",
       "        vertical-align: top;\n",
       "    }\n",
       "\n",
       "    .dataframe thead th {\n",
       "        text-align: right;\n",
       "    }\n",
       "</style>\n",
       "<table border=\"1\" class=\"dataframe\">\n",
       "  <thead>\n",
       "    <tr style=\"text-align: right;\">\n",
       "      <th></th>\n",
       "      <th>Time</th>\n",
       "      <th>同美国进口总额(千美元)</th>\n",
       "      <th>同美国出口总额(千美元)</th>\n",
       "    </tr>\n",
       "    <tr>\n",
       "      <th>Time</th>\n",
       "      <th></th>\n",
       "      <th></th>\n",
       "      <th></th>\n",
       "    </tr>\n",
       "  </thead>\n",
       "  <tbody>\n",
       "    <tr>\n",
       "      <th>2000-01-01</th>\n",
       "      <td>2000-01-01</td>\n",
       "      <td>1596346.0</td>\n",
       "      <td>3418449.0</td>\n",
       "    </tr>\n",
       "    <tr>\n",
       "      <th>2000-02-01</th>\n",
       "      <td>2000-02-01</td>\n",
       "      <td>1304670.0</td>\n",
       "      <td>3055219.0</td>\n",
       "    </tr>\n",
       "    <tr>\n",
       "      <th>2000-03-01</th>\n",
       "      <td>2000-03-01</td>\n",
       "      <td>1760067.0</td>\n",
       "      <td>3986851.0</td>\n",
       "    </tr>\n",
       "    <tr>\n",
       "      <th>2000-04-01</th>\n",
       "      <td>2000-04-01</td>\n",
       "      <td>1986613.0</td>\n",
       "      <td>4161844.0</td>\n",
       "    </tr>\n",
       "    <tr>\n",
       "      <th>2000-05-01</th>\n",
       "      <td>2000-05-01</td>\n",
       "      <td>1707932.0</td>\n",
       "      <td>4300857.0</td>\n",
       "    </tr>\n",
       "  </tbody>\n",
       "</table>\n",
       "</div>"
      ],
      "text/plain": [
       "                 Time  同美国进口总额(千美元)    同美国出口总额(千美元)\n",
       "Time                                               \n",
       "2000-01-01 2000-01-01     1596346.0       3418449.0\n",
       "2000-02-01 2000-02-01     1304670.0       3055219.0\n",
       "2000-03-01 2000-03-01     1760067.0       3986851.0\n",
       "2000-04-01 2000-04-01     1986613.0       4161844.0\n",
       "2000-05-01 2000-05-01     1707932.0       4300857.0"
      ]
     },
     "execution_count": 3,
     "metadata": {},
     "output_type": "execute_result"
    }
   ],
   "source": [
    "data.index=data.Time\n",
    "data.dropna()\n",
    "data.head()"
   ]
  },
  {
   "cell_type": "code",
   "execution_count": 17,
   "metadata": {},
   "outputs": [],
   "source": [
    "test=data['2000/01/01':'2018/05/01']#测试数据集"
   ]
  },
  {
   "cell_type": "code",
   "execution_count": 18,
   "metadata": {},
   "outputs": [
    {
     "name": "stdout",
     "output_type": "stream",
     "text": [
      "参数错误: (0, 2)\n",
      "参数错误: (1, 1)\n",
      "参数错误: (1, 2)\n",
      "参数错误: (2, 0)\n",
      "参数错误: (2, 1)\n",
      "参数错误: (2, 2)\n",
      "最优模型:                                ARMA Model Results                              \n",
      "==============================================================================\n",
      "Dep. Variable:           同美国进口总额(千美元)   No. Observations:                    3\n",
      "Model:                     ARMA(1, 0)   Log Likelihood                 -42.749\n",
      "Method:                       css-mle   S.D. of innovations         292628.815\n",
      "Date:                Sat, 28 Mar 2020   AIC                             91.499\n",
      "Time:                        23:05:56   BIC                             88.795\n",
      "Sample:                    03-01-2018   HQIC                            86.063\n",
      "                         - 05-01-2018                                         \n",
      "======================================================================================\n",
      "                         coef    std err          z      P>|z|      [0.025      0.975]\n",
      "--------------------------------------------------------------------------------------\n",
      "const               1.446e+07   1.12e+05    129.356      0.005    1.42e+07    1.47e+07\n",
      "ar.L1.同美国进口总额(千美元)    -0.8769      0.197     -4.443      0.141      -1.264      -0.490\n",
      "                                    Roots                                    \n",
      "=============================================================================\n",
      "                  Real          Imaginary           Modulus         Frequency\n",
      "-----------------------------------------------------------------------------\n",
      "AR.1           -1.1404           +0.0000j            1.1404            0.5000\n",
      "-----------------------------------------------------------------------------\n"
     ]
    }
   ],
   "source": [
    "ps = range(0, 3)\n",
    "qs = range(0, 3)\n",
    "parameters = product(ps, qs)\n",
    "parameters_list = list(parameters)\n",
    "# 寻找最优ARMA模型参数，即best_aic最小\n",
    "results = []\n",
    "best_aic = float(\"inf\") # 正无穷\n",
    "for param in parameters_list:\n",
    "    try:\n",
    "        model = ARMA(test['同美国进口总额(千美元)'],order=(param[0], param[1])).fit()\n",
    "    except ValueError:\n",
    "        print('参数错误:', param)\n",
    "        continue\n",
    "    aic = model.aic\n",
    "    if aic < best_aic:\n",
    "        best_model = model\n",
    "        best_aic = aic\n",
    "        best_param = param\n",
    "    results.append([param, model.aic])\n",
    "# 输出最优模型\n",
    "result_table = pd.DataFrame(results)\n",
    "result_table.columns = ['parameters', 'aic']\n",
    "print('最优模型: ', best_model.summary())"
   ]
  },
  {
   "cell_type": "code",
   "execution_count": 19,
   "metadata": {},
   "outputs": [
    {
     "data": {
      "image/png": "[encoded data removed]",
      "text/plain": [
       "<Figure size 432x288 with 1 Axes>"
      ]
     },
     "metadata": {
      "needs_background": "light"
     },
     "output_type": "display_data"
    },
    {
     "data": {
      "text/plain": [
       "<Figure size 1440x1440 with 0 Axes>"
      ]
     },
     "metadata": {},
     "output_type": "display_data"
    }
   ],
   "source": [
    "data['forecast_进口'] = best_model.predict(start=0, end=(241))\n",
    "data=data['2018/03/01':]\n",
    "plt.title('同美国进口总额(千美元)')\n",
    "plt.xlabel('时间')\n",
    "plt.ylabel('(千美元)')\n",
    "plt.plot(data.Time,data['forecast_进口'],label='预测值')\n",
    "plt.plot(data.Time,data['同美国进口总额(千美元)'],color='r', ls='--',label='实际值')\n",
    "plt.figure(figsize=(20,20))\n",
    "plt.show()"
   ]
  },
  {
   "cell_type": "code",
   "execution_count": 20,
   "metadata": {},
   "outputs": [
    {
     "name": "stdout",
     "output_type": "stream",
     "text": [
      "参数错误: (0, 2)\n",
      "参数错误: (1, 1)\n",
      "参数错误: (1, 2)\n",
      "参数错误: (2, 0)\n",
      "参数错误: (2, 1)\n",
      "参数错误: (2, 2)\n",
      "最优模型:                                ARMA Model Results                              \n",
      "==============================================================================\n",
      "Dep. Variable:           同美国出口总额(千美元)   No. Observations:                    3\n",
      "Model:                     ARMA(0, 0)   Log Likelihood                 -49.503\n",
      "Method:                           css   S.D. of innovations        3549021.774\n",
      "Date:                Sat, 28 Mar 2020   AIC                            103.007\n",
      "Time:                        23:05:58   BIC                            101.204\n",
      "Sample:                    03-01-2018   HQIC                            99.383\n",
      "                         - 05-01-2018                                         \n",
      "==============================================================================\n",
      "                 coef    std err          z      P>|z|      [0.025      0.975]\n",
      "------------------------------------------------------------------------------\n",
      "const       3.537e+07   2.05e+06     17.260      0.003    3.14e+07    3.94e+07\n",
      "==============================================================================\n"
     ]
    }
   ],
   "source": [
    "ps = range(0, 3)\n",
    "qs = range(0, 3)\n",
    "parameters = product(ps, qs)\n",
    "parameters_list = list(parameters)\n",
    "# 寻找最优ARMA模型参数，即best_aic最小\n",
    "results = []\n",
    "best_aic = float(\"inf\") # 正无穷\n",
    "for param in parameters_list:\n",
    "    try:\n",
    "        model = ARMA(test['  同美国出口总额(千美元)'],order=(param[0], param[1])).fit()\n",
    "    except ValueError:\n",
    "        print('参数错误:', param)\n",
    "        continue\n",
    "    aic = model.aic\n",
    "    if aic < best_aic:\n",
    "        best_model = model\n",
    "        best_aic = aic\n",
    "        best_param = param\n",
    "    results.append([param, model.aic])\n",
    "# 输出最优模型\n",
    "result_table = pd.DataFrame(results)\n",
    "result_table.columns = ['parameters', 'aic']\n",
    "print('最优模型: ', best_model.summary())"
   ]
  },
  {
   "cell_type": "code",
   "execution_count": 21,
   "metadata": {},
   "outputs": [
    {
     "data": {
      "image/png": "[encoded data removed]",
      "text/plain": [
       "<Figure size 432x288 with 1 Axes>"
      ]
     },
     "metadata": {
      "needs_background": "light"
     },
     "output_type": "display_data"
    },
    {
     "data": {
      "text/plain": [
       "<Figure size 1440x1440 with 0 Axes>"
      ]
     },
     "metadata": {},
     "output_type": "display_data"
    }
   ],
   "source": [
    "data['forecast_出口'] = best_model.predict(start=0, end=(241))\n",
    "data=data['2018/03/01':]\n",
    "plt.title('同美国出口总额(千美元)')\n",
    "plt.xlabel('时间')\n",
    "plt.ylabel('(千美元)')\n",
    "plt.plot(data.Time,data['forecast_进口'],label='预测值')\n",
    "plt.plot(data.Time,data['  同美国出口总额(千美元)'],color='r', ls='--',label='实际值')\n",
    "plt.figure(figsize=(20,20))\n",
    "plt.show()"
   ]
  },
  {
   "cell_type": "code",
   "execution_count": 9,
   "metadata": {},
   "outputs": [],
   "source": [
    "data.to_excel('n_data.xls',index=False)"
   ]
  },
  {
   "cell_type": "code",
   "execution_count": null,
   "metadata": {},
   "outputs": [],
   "source": []
  },
  {
   "cell_type": "code",
   "execution_count": null,
   "metadata": {},
   "outputs": [],
   "source": []
  }
 ],
 "metadata": {
  "kernelspec": {
   "display_name": "Python 3.7.3 64-bit ('base': conda)",
   "language": "python",
   "name": "python37364bitbaseconda49c3178403d1439ca0e62a4e7df9e495"
  },
  "language_info": {
   "codemirror_mode": {
    "name": "ipython",
    "version": 3
   },
   "file_extension": ".py",
   "mimetype": "text/x-python",
   "name": "python",
   "nbconvert_exporter": "python",
   "pygments_lexer": "ipython3",
   "version": "3.7.3"
  },
  "toc": {
   "base_numbering": 1,
   "nav_menu": {},
   "number_sections": true,
   "sideBar": true,
   "skip_h1_title": false,
   "title_cell": "Table of Contents",
   "title_sidebar": "Contents",
   "toc_cell": false,
   "toc_position": {},
   "toc_section_display": true,
   "toc_window_display": false
  }
 },
 "nbformat": 4,
 "nbformat_minor": 4
}
