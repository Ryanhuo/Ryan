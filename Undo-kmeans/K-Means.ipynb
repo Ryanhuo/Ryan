{
 "cells": [
  {
   "cell_type": "code",
   "execution_count": 1,
   "metadata": {},
   "outputs": [],
   "source": [
    "from sklearn.cluster import KMeans\n",
    "from sklearn import preprocessing\n",
    "import pandas as pd\n",
    "import numpy as np\n"
   ]
  },
  {
   "cell_type": "code",
   "execution_count": 2,
   "metadata": {},
   "outputs": [
    {
     "name": "stdout",
     "output_type": "stream",
     "text": [
      "        国家  2019年国际排名  2018世界杯  2015亚洲杯  聚类\n",
      "0       中国         73       40        7   2\n",
      "1       日本         60       15        5   0\n",
      "2       韩国         61       19        2   0\n",
      "3       伊朗         34       18        6   0\n",
      "4       沙特         67       26       10   0\n",
      "5      伊拉克         91       40        4   2\n",
      "6      卡塔尔        101       40       13   1\n",
      "7      阿联酋         81       40        6   2\n",
      "8   乌兹别克斯坦         88       40        8   2\n",
      "9       泰国        122       40       17   1\n",
      "10      越南        102       50       17   1\n",
      "11      阿曼         87       50       12   1\n",
      "12      巴林        116       50       11   1\n",
      "13      朝鲜        110       50       14   1\n",
      "14      印尼        164       50       17   1\n",
      "15      澳洲         40       30        1   0\n",
      "16     叙利亚         76       40       17   1\n",
      "17      约旦        118       50        9   1\n",
      "18     科威特        160       50       15   1\n",
      "19    巴勒斯坦         96       50       16   1\n"
     ]
    }
   ],
   "source": [
    "# 输入数据\n",
    "data = pd.read_csv('data.csv', encoding='gbk')\n",
    "train_x = data[[\"2019年国际排名\",\"2018世界杯\",\"2015亚洲杯\"]]\n",
    "df = pd.DataFrame(train_x)\n",
    "kmeans = KMeans(n_clusters=3)\n",
    "# 规范化到[0,1]空间\n",
    "min_max_scaler=preprocessing.MinMaxScaler()\n",
    "train_x=min_max_scaler.fit_transform(train_x)\n",
    "# kmeans算法\n",
    "kmeans.fit(train_x)\n",
    "predict_y = kmeans.predict(train_x)\n",
    "# 合并聚类结果，插入到原数据中\n",
    "result = pd.concat((data,pd.DataFrame(predict_y)),axis=1)\n",
    "result.rename({0:u'聚类'},axis=1,inplace=True)\n",
    "print(result)"
   ]
  },
  {
   "cell_type": "code",
   "execution_count": 3,
   "metadata": {},
   "outputs": [],
   "source": [
    "# -*- coding: utf-8 -*-\n",
    "# 使用K-means对图像进行聚类，显示分割标识的可视化\n",
    "import numpy as np\n",
    "import PIL.Image as image\n",
    "from sklearn.cluster import KMeans\n",
    "from sklearn import preprocessing\n",
    "\n",
    "# 加载图像，并对数据进行规范化\n",
    "def load_data(filePath):\n",
    "    # 读文件\n",
    "    f = open(filePath,'rb')\n",
    "    data = []\n",
    "    # 得到图像的像素值\n",
    "    img = image.open(f)\n",
    "    # 得到图像尺寸\n",
    "    width, height = img.size\n",
    "    for x in range(width):\n",
    "        for y in range(height):\n",
    "            # 得到点(x,y)的三个通道值\n",
    "            c1, c2, c3 = img.getpixel((x, y))\n",
    "            data.append([c1, c2, c3])\n",
    "    f.close()\n",
    "    # 采用Min-Max规范化\n",
    "    mm = preprocessing.MinMaxScaler()\n",
    "    data = mm.fit_transform(data)\n",
    "    return np.mat(data), width, height\n",
    "\n",
    "# 加载图像，得到规范化的结果img，以及图像尺寸\n",
    "img, width, height = load_data('./weixin.jpg')\n",
    "\n"
   ]
  },
  {
   "cell_type": "code",
   "execution_count": 4,
   "metadata": {},
   "outputs": [],
   "source": [
    "# 用K-Means对图像进行2聚类\n",
    "kmeans =KMeans(n_clusters=2)\n",
    "kmeans.fit(img)\n",
    "label = kmeans.predict(img)\n",
    "# 将图像聚类结果，转化成图像尺寸的矩阵\n",
    "label = label.reshape([width, height])\n",
    "# 创建个新图像pic_mark，用来保存图像聚类的结果，并设置不同的灰度值\n",
    "pic_mark = image.new(\"L\", (width, height))\n",
    "for x in range(width):\n",
    "    for y in range(height):\n",
    "        # 根据类别设置图像灰度, 类别0 灰度值为255， 类别1 灰度值为127\n",
    "        pic_mark.putpixel((x, y), int(256/(label[x][y]+1))-1)\n",
    "pic_mark.save(\"weixin_mark.jpg\", \"JPEG\")"
   ]
  },
  {
   "cell_type": "code",
   "execution_count": null,
   "metadata": {},
   "outputs": [],
   "source": []
  }
 ],
 "metadata": {
  "kernelspec": {
   "display_name": "Python 3.7.3 64-bit ('base': conda)",
   "language": "python",
   "name": "python37364bitbaseconda49c3178403d1439ca0e62a4e7df9e495"
  },
  "language_info": {
   "codemirror_mode": {
    "name": "ipython",
    "version": 3
   },
   "file_extension": ".py",
   "mimetype": "text/x-python",
   "name": "python",
   "nbconvert_exporter": "python",
   "pygments_lexer": "ipython3",
   "version": "3.7.3"
  },
  "toc": {
   "base_numbering": 1,
   "nav_menu": {},
   "number_sections": true,
   "sideBar": true,
   "skip_h1_title": false,
   "title_cell": "Table of Contents",
   "title_sidebar": "Contents",
   "toc_cell": false,
   "toc_position": {},
   "toc_section_display": true,
   "toc_window_display": false
  }
 },
 "nbformat": 4,
 "nbformat_minor": 4
}
